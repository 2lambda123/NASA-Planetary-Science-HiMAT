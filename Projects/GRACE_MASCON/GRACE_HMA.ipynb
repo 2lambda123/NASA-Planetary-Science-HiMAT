{
 "cells": [
  {
   "cell_type": "markdown",
   "metadata": {},
   "source": [
    "### Combining GRACE mascon and LIS model output"
   ]
  },
  {
   "cell_type": "code",
   "execution_count": 1,
   "metadata": {},
   "outputs": [],
   "source": [
    "# Jupter notebook magic\n",
    "%matplotlib inline\n",
    "\n",
    "# Import libraries to work with the data\n",
    "import os\n",
    "import sys\n",
    "sys.path.append('../../scripts')\n",
    "\n",
    "from branca.colormap import linear\n",
    "import folium\n",
    "\n",
    "import geopandas as gpd\n",
    "from geopandas import GeoDataFrame\n",
    "\n",
    "import h5py\n",
    "import numpy as np\n",
    "import pandas as pd\n",
    "import pyepsg\n",
    "import scipy.optimize\n",
    "from shapely.geometry import (Polygon, Point, box)\n",
    "import xarray as xr\n",
    "import regionmask\n",
    "\n",
    "from dask.diagnostics import ProgressBar\n",
    "    \n",
    "from GRACE_MASCON.pygrace import (extract_grace, get_mascon_gdf, get_cmwe_trend_analysis)\n",
    "from LIS import utils as LISutils"
   ]
  },
  {
   "cell_type": "code",
   "execution_count": null,
   "metadata": {
    "collapsed": true
   },
   "outputs": [],
   "source": [
    "#fname = 'c:\\work\\datadrive\\GRACE\\GSFC.glb.200301_201607_v02.3b-ICE6G.h5'\n",
    "fname = '/att/nobackup/aarendt/GRACE/GSFC.glb.200301_201607_v02.3b-ICE6G.h5'"
   ]
  },
  {
   "cell_type": "code",
   "execution_count": null,
   "metadata": {
    "collapsed": true
   },
   "outputs": [],
   "source": [
    "fpath = os.path.join(os.path.abspath(os.path.curdir), fname)"
   ]
  },
  {
   "cell_type": "code",
   "execution_count": null,
   "metadata": {},
   "outputs": [],
   "source": [
    "f = extract_grace(fpath)"
   ]
  },
  {
   "cell_type": "code",
   "execution_count": null,
   "metadata": {},
   "outputs": [],
   "source": [
    "mascon = f['mascon']"
   ]
  },
  {
   "cell_type": "code",
   "execution_count": null,
   "metadata": {},
   "outputs": [],
   "source": [
    "mascon_gdf = get_mascon_gdf(mascon)"
   ]
  },
  {
   "cell_type": "code",
   "execution_count": null,
   "metadata": {
    "collapsed": true
   },
   "outputs": [],
   "source": [
    "## we need to track mascon numbers later, which we get from the index, so make a new \"mascon\" column\n",
    "mascon_gdf['mascon'] = mascon_gdf.index"
   ]
  },
  {
   "cell_type": "markdown",
   "metadata": {},
   "source": [
    "## read in the natural Earth dataset"
   ]
  },
  {
   "cell_type": "code",
   "execution_count": null,
   "metadata": {
    "collapsed": true
   },
   "outputs": [],
   "source": [
    "world = gpd.read_file(gpd.datasets.get_path('naturalearth_lowres'))"
   ]
  },
  {
   "cell_type": "markdown",
   "metadata": {},
   "source": [
    "## build a polygon representing HMA bounding box"
   ]
  },
  {
   "cell_type": "code",
   "execution_count": null,
   "metadata": {
    "collapsed": true
   },
   "outputs": [],
   "source": [
    "coordinates = [(62,26), (62,46), (106,46), (106, 26)]\n",
    "# Create a Shapely polygon from the coordinate-tuple list\n",
    "poly = Polygon(coordinates)\n",
    "# create a geodataframe\n",
    "HMA_region = gpd.GeoDataFrame()\n",
    "HMA_region.loc[0, 'geometry'] = poly"
   ]
  },
  {
   "cell_type": "markdown",
   "metadata": {},
   "source": [
    "### bring in the LIS data"
   ]
  },
  {
   "cell_type": "markdown",
   "metadata": {},
   "source": [
    "### Import the monthly average LIS product I calculated in [LIS Notebook](https://github.com/NASA-Planetary-Science/HiMAT/blob/master/Projects/LIS/waterBalance.ipynb) and stored temporarily on nobackup\n",
    "\n",
    "* calculate the water balance from all the components"
   ]
  },
  {
   "cell_type": "code",
   "execution_count": 27,
   "metadata": {},
   "outputs": [],
   "source": [
    "datadir = '/att/nobackup/aarendt/LIS/'\n",
    "\n",
    "ds = xr.open_mfdataset(datadir + '*.nc')\n",
    "# ds['waterbal'] = ds['Rainf_tavg'] + ds['Snowf_tavg'] - ds['Qsb_tavg'] - ds['Qsb_tavg'] - ds['Qsm_tavg'] - ds['Evap_tavg']\n",
    "ds = ds.chunk({'time': 1})"
   ]
  },
  {
   "cell_type": "code",
   "execution_count": 26,
   "metadata": {},
   "outputs": [
    {
     "data": {
      "text/plain": [
       "<xarray.Dataset>\n",
       "Dimensions:                        (east_west: 1896, north_south: 1696, time: 180)\n",
       "Coordinates:\n",
       "  * east_west                      (east_west) int64 0 1 2 3 4 5 6 7 8 9 10 ...\n",
       "  * north_south                    (north_south) int64 0 1 2 3 4 5 6 7 8 9 ...\n",
       "    longitude                      (north_south, east_west) float64 66.03 ...\n",
       "    latitude                       (north_south, east_west) float64 22.02 ...\n",
       "  * time                           (time) datetime64[ns] 2001-01-01 ...\n",
       "Data variables:\n",
       "    Evap_tavg                      (time, north_south, east_west) float64 0.0 ...\n",
       "    __xarray_dataarray_variable__  (north_south, east_west) float64 nan nan ...\n",
       "    Rainf_tavg                     (time, north_south, east_west) float64 0.0 ...\n",
       "    Qs_tavg                        (time, north_south, east_west) float64 0.0 ...\n",
       "    Snowf_tavg                     (time, north_south, east_west) float64 0.0 ...\n",
       "    Qsm_tavg                       (time, north_south, east_west) float64 0.0 ...\n",
       "    Qsb_tavg                       (time, north_south, east_west) float64 0.0 ..."
      ]
     },
     "execution_count": 26,
     "metadata": {},
     "output_type": "execute_result"
    }
   ],
   "source": [
    "ds"
   ]
  },
  {
   "cell_type": "markdown",
   "metadata": {},
   "source": [
    "### subset for testing"
   ]
  },
  {
   "cell_type": "code",
   "execution_count": null,
   "metadata": {},
   "outputs": [],
   "source": [
    "subset = ds['waterbal'].isel(time=slice(0, 30))"
   ]
  },
  {
   "cell_type": "markdown",
   "metadata": {},
   "source": [
    "### Build a polygon around the extent of the LIS output so we can subset the GRACE data"
   ]
  },
  {
   "cell_type": "code",
   "execution_count": null,
   "metadata": {},
   "outputs": [],
   "source": [
    "# getting the max/min lat/lon from the LIS dataset\n",
    "minLong = ds.coords['longitude'].min().values\n",
    "maxLong = ds.coords['longitude'].max().values\n",
    "minLat = ds.coords['latitude'].min().values\n",
    "maxLat = ds.coords['latitude'].max().values\n",
    "\n",
    "coordinates = [(minLong,minLat), (minLong,maxLat), (maxLong,maxLat), (maxLong, minLat)]\n",
    "# Create a Shapely polygon from the coordinate-tuple list\n",
    "poly = Polygon(coordinates)\n",
    "# create a geodataframe\n",
    "HMA_region = gpd.GeoDataFrame()\n",
    "HMA_region.loc[0, 'geometry'] = poly"
   ]
  },
  {
   "cell_type": "code",
   "execution_count": null,
   "metadata": {},
   "outputs": [],
   "source": [
    "# HMA\n",
    "HMA = mascon_gdf[(mascon_gdf['location'] == 80.0) & ((mascon_gdf['basin'] > 5000.0) & (mascon_gdf['basin'] < 6100.0))]\n",
    "HMA_w_trend = get_cmwe_trend_analysis(HMA, f)\n",
    "HMA_w_trend.plot(column='avg_mass_change_cm')"
   ]
  },
  {
   "cell_type": "markdown",
   "metadata": {},
   "source": [
    "### Select only those mascons in the HMA bounding box"
   ]
  },
  {
   "cell_type": "code",
   "execution_count": null,
   "metadata": {
    "collapsed": true
   },
   "outputs": [],
   "source": [
    "gpd_intersect = gpd.overlay(HMA_region, HMA_w_trend, how='intersection')"
   ]
  },
  {
   "cell_type": "code",
   "execution_count": null,
   "metadata": {
    "scrolled": true
   },
   "outputs": [],
   "source": [
    "gpd_intersect.plot(column='avg_mass_change_cm', ax=world[world['continent'] == 'Asia'].plot(), figsize=(20, 20));"
   ]
  },
  {
   "cell_type": "markdown",
   "metadata": {},
   "source": [
    "### build a mask into the LIS coordinates based on the GRACE mascons \n",
    "* using [regionmask](http://regionmask.readthedocs.io/en/stable/)"
   ]
  },
  {
   "cell_type": "code",
   "execution_count": null,
   "metadata": {
    "collapsed": true
   },
   "outputs": [],
   "source": [
    "numbers = gpd_intersect.index.values\n",
    "names = gpd_intersect['mascon'].values\n",
    "abbrevs = gpd_intersect['mascon'].values\n",
    "m = regionmask.Regions_cls('HMA_msk',numbers,names,abbrevs,gpd_intersect.geometry.values)"
   ]
  },
  {
   "cell_type": "code",
   "execution_count": null,
   "metadata": {},
   "outputs": [],
   "source": [
    "ax = m.plot()\n",
    "import cartopy.crs as ccrs\n",
    "ax.set_extent([0, 140, 10, 70], crs = ccrs.PlateCarree());"
   ]
  },
  {
   "cell_type": "code",
   "execution_count": null,
   "metadata": {},
   "outputs": [],
   "source": [
    "m.name = 'mascon'"
   ]
  },
  {
   "cell_type": "markdown",
   "metadata": {},
   "source": [
    "### this builds the mask \n",
    "* we can do this for just one variable and one time slice, since all the lat/long grids are coregistered anyhow\n",
    "* this takes some time"
   ]
  },
  {
   "cell_type": "code",
   "execution_count": null,
   "metadata": {},
   "outputs": [],
   "source": [
    "t = xr.open_dataset(datadir + 'snowMonthly.nc')\n",
    "m2 = m.mask(t['Snowf_tavg'].isel(time=0), lon_name = 'longitude', lat_name = 'latitude')\n",
    "# print('All NaN? ', np.all(np.isnan(m2)))"
   ]
  },
  {
   "cell_type": "code",
   "execution_count": 2,
   "metadata": {},
   "outputs": [],
   "source": [
    "# serialize for later\n",
    "#m2.to_netcdf('/att/nobackup/aarendt/LIS/gracemsk.nc')\n",
    "m2 = xr.open_dataset('/att/nobackup/aarendt/LIS/gracemsk.nc')"
   ]
  },
  {
   "cell_type": "code",
   "execution_count": 3,
   "metadata": {},
   "outputs": [
    {
     "data": {
      "text/plain": [
       "<xarray.Dataset>\n",
       "Dimensions:      (east_west: 1896, north_south: 1696)\n",
       "Coordinates:\n",
       "  * north_south  (north_south) int64 0 1 2 3 4 5 6 7 8 9 10 11 12 13 14 15 ...\n",
       "  * east_west    (east_west) int64 0 1 2 3 4 5 6 7 8 9 10 11 12 13 14 15 16 ...\n",
       "    latitude     (north_south, east_west) float64 22.02 22.02 22.02 22.02 ...\n",
       "    longitude    (north_south, east_west) float64 66.03 66.04 66.05 66.06 ...\n",
       "Data variables:\n",
       "    m2           (north_south, east_west) float64 nan nan nan nan nan nan ..."
      ]
     },
     "execution_count": 3,
     "metadata": {},
     "output_type": "execute_result"
    }
   ],
   "source": [
    "m2.rename({'__xarray_dataarray_variable__':'m2'}, inplace = True)"
   ]
  },
  {
   "cell_type": "code",
   "execution_count": 22,
   "metadata": {},
   "outputs": [
    {
     "data": {
      "text/plain": [
       "<matplotlib.collections.QuadMesh at 0x7fb6dd3efeb8>"
      ]
     },
     "execution_count": 22,
     "metadata": {},
     "output_type": "execute_result"
    },
    {
     "data": {
      "image/png": "[encoded data removed]",
      "text/plain": [
       "<matplotlib.figure.Figure at 0x7fb6dcfe9390>"
      ]
     },
     "metadata": {},
     "output_type": "display_data"
    }
   ],
   "source": [
    "m2['m2'].plot(x='longitude',y='latitude')"
   ]
  },
  {
   "cell_type": "code",
   "execution_count": 24,
   "metadata": {},
   "outputs": [
    {
     "data": {
      "text/plain": [
       "<xarray.Dataset>\n",
       "Dimensions:  ()\n",
       "Data variables:\n",
       "    m2       float64 441.0"
      ]
     },
     "execution_count": 24,
     "metadata": {},
     "output_type": "execute_result"
    }
   ],
   "source": [
    "m2.max()"
   ]
  },
  {
   "cell_type": "code",
   "execution_count": 28,
   "metadata": {},
   "outputs": [
    {
     "name": "stdout",
     "output_type": "stream",
     "text": [
      "[########################################] | 100% Completed |  0.2s\n",
      "[########################################] | 100% Completed |  0.2s\n",
      "[########################################] | 100% Completed | 16.7s\n",
      "[########################################] | 100% Completed | 15.8s\n",
      "[########################################] | 100% Completed | 15.9s\n",
      "[########################################] | 100% Completed | 15.7s\n",
      "[########################################] | 100% Completed | 15.5s\n",
      "[########################################] | 100% Completed | 15.8s\n"
     ]
    }
   ],
   "source": [
    "with ProgressBar():\n",
    "    test = ds.where(m2['m2'] == 100).groupby('time').sum().to_dataframe()"
   ]
  },
  {
   "cell_type": "code",
   "execution_count": 34,
   "metadata": {},
   "outputs": [
    {
     "data": {
      "text/plain": [
       "<matplotlib.axes._subplots.AxesSubplot at 0x7fb6dcc94dd8>"
      ]
     },
     "execution_count": 34,
     "metadata": {},
     "output_type": "execute_result"
    },
    {
     "data": {
      "image/png": "[encoded data removed]",
      "text/plain": [
       "<matplotlib.figure.Figure at 0x7fb6dd155fd0>"
      ]
     },
     "metadata": {},
     "output_type": "display_data"
    }
   ],
   "source": [
    "test[['Evap_tavg','Rainf_tavg']].plot()"
   ]
  },
  {
   "cell_type": "code",
   "execution_count": 31,
   "metadata": {},
   "outputs": [
    {
     "data": {
      "text/html": [
       "<div>\n",
       "<style scoped>\n",
       "    .dataframe tbody tr th:only-of-type {\n",
       "        vertical-align: middle;\n",
       "    }\n",
       "\n",
       "    .dataframe tbody tr th {\n",
       "        vertical-align: top;\n",
       "    }\n",
       "\n",
       "    .dataframe thead th {\n",
       "        text-align: right;\n",
       "    }\n",
       "</style>\n",
       "<table border=\"1\" class=\"dataframe\">\n",
       "  <thead>\n",
       "    <tr style=\"text-align: right;\">\n",
       "      <th></th>\n",
       "      <th>Evap_tavg</th>\n",
       "      <th>Rainf_tavg</th>\n",
       "      <th>Qs_tavg</th>\n",
       "      <th>Snowf_tavg</th>\n",
       "      <th>Qsm_tavg</th>\n",
       "      <th>Qsb_tavg</th>\n",
       "    </tr>\n",
       "    <tr>\n",
       "      <th>time</th>\n",
       "      <th></th>\n",
       "      <th></th>\n",
       "      <th></th>\n",
       "      <th></th>\n",
       "      <th></th>\n",
       "      <th></th>\n",
       "    </tr>\n",
       "  </thead>\n",
       "  <tbody>\n",
       "    <tr>\n",
       "      <th>2001-01-01</th>\n",
       "      <td>0.260270</td>\n",
       "      <td>1.801218e-06</td>\n",
       "      <td>0.000377</td>\n",
       "      <td>0.0</td>\n",
       "      <td>0.0</td>\n",
       "      <td>0.100995</td>\n",
       "    </tr>\n",
       "    <tr>\n",
       "      <th>2001-02-01</th>\n",
       "      <td>0.128677</td>\n",
       "      <td>2.004636e-03</td>\n",
       "      <td>0.000405</td>\n",
       "      <td>0.0</td>\n",
       "      <td>0.0</td>\n",
       "      <td>0.091017</td>\n",
       "    </tr>\n",
       "    <tr>\n",
       "      <th>2001-03-01</th>\n",
       "      <td>0.073630</td>\n",
       "      <td>1.040879e-02</td>\n",
       "      <td>0.000779</td>\n",
       "      <td>0.0</td>\n",
       "      <td>0.0</td>\n",
       "      <td>0.100481</td>\n",
       "    </tr>\n",
       "    <tr>\n",
       "      <th>2001-04-01</th>\n",
       "      <td>0.369990</td>\n",
       "      <td>4.257706e-01</td>\n",
       "      <td>0.008504</td>\n",
       "      <td>0.0</td>\n",
       "      <td>0.0</td>\n",
       "      <td>0.096910</td>\n",
       "    </tr>\n",
       "    <tr>\n",
       "      <th>2001-05-01</th>\n",
       "      <td>0.299946</td>\n",
       "      <td>2.829639e-01</td>\n",
       "      <td>0.006494</td>\n",
       "      <td>0.0</td>\n",
       "      <td>0.0</td>\n",
       "      <td>0.099773</td>\n",
       "    </tr>\n",
       "    <tr>\n",
       "      <th>2001-06-01</th>\n",
       "      <td>0.761812</td>\n",
       "      <td>9.986401e-01</td>\n",
       "      <td>0.018966</td>\n",
       "      <td>0.0</td>\n",
       "      <td>0.0</td>\n",
       "      <td>0.096165</td>\n",
       "    </tr>\n",
       "    <tr>\n",
       "      <th>2001-07-01</th>\n",
       "      <td>5.040593</td>\n",
       "      <td>8.459628e+00</td>\n",
       "      <td>0.158795</td>\n",
       "      <td>0.0</td>\n",
       "      <td>0.0</td>\n",
       "      <td>0.098971</td>\n",
       "    </tr>\n",
       "    <tr>\n",
       "      <th>2001-08-01</th>\n",
       "      <td>3.083843</td>\n",
       "      <td>2.219217e+00</td>\n",
       "      <td>0.042320</td>\n",
       "      <td>0.0</td>\n",
       "      <td>0.0</td>\n",
       "      <td>0.098838</td>\n",
       "    </tr>\n",
       "    <tr>\n",
       "      <th>2001-09-01</th>\n",
       "      <td>0.703060</td>\n",
       "      <td>7.029980e-03</td>\n",
       "      <td>0.000173</td>\n",
       "      <td>0.0</td>\n",
       "      <td>0.0</td>\n",
       "      <td>0.095584</td>\n",
       "    </tr>\n",
       "    <tr>\n",
       "      <th>2001-10-01</th>\n",
       "      <td>0.328425</td>\n",
       "      <td>2.682212e-01</td>\n",
       "      <td>0.005387</td>\n",
       "      <td>0.0</td>\n",
       "      <td>0.0</td>\n",
       "      <td>0.098686</td>\n",
       "    </tr>\n",
       "    <tr>\n",
       "      <th>2001-11-01</th>\n",
       "      <td>0.112179</td>\n",
       "      <td>1.466846e-07</td>\n",
       "      <td>0.000223</td>\n",
       "      <td>0.0</td>\n",
       "      <td>0.0</td>\n",
       "      <td>0.095411</td>\n",
       "    </tr>\n",
       "    <tr>\n",
       "      <th>2001-12-01</th>\n",
       "      <td>0.915084</td>\n",
       "      <td>2.274004e+00</td>\n",
       "      <td>0.043380</td>\n",
       "      <td>0.0</td>\n",
       "      <td>0.0</td>\n",
       "      <td>0.098506</td>\n",
       "    </tr>\n",
       "    <tr>\n",
       "      <th>2002-01-01</th>\n",
       "      <td>0.839515</td>\n",
       "      <td>1.172950e-04</td>\n",
       "      <td>0.000019</td>\n",
       "      <td>0.0</td>\n",
       "      <td>0.0</td>\n",
       "      <td>0.098397</td>\n",
       "    </tr>\n",
       "    <tr>\n",
       "      <th>2002-02-01</th>\n",
       "      <td>0.404687</td>\n",
       "      <td>4.803253e-02</td>\n",
       "      <td>0.000895</td>\n",
       "      <td>0.0</td>\n",
       "      <td>0.0</td>\n",
       "      <td>0.088735</td>\n",
       "    </tr>\n",
       "    <tr>\n",
       "      <th>2002-03-01</th>\n",
       "      <td>0.389545</td>\n",
       "      <td>1.780414e-01</td>\n",
       "      <td>0.003524</td>\n",
       "      <td>0.0</td>\n",
       "      <td>0.0</td>\n",
       "      <td>0.098074</td>\n",
       "    </tr>\n",
       "    <tr>\n",
       "      <th>2002-04-01</th>\n",
       "      <td>0.093115</td>\n",
       "      <td>3.463412e-04</td>\n",
       "      <td>0.000779</td>\n",
       "      <td>0.0</td>\n",
       "      <td>0.0</td>\n",
       "      <td>0.094727</td>\n",
       "    </tr>\n",
       "    <tr>\n",
       "      <th>2002-05-01</th>\n",
       "      <td>0.045710</td>\n",
       "      <td>4.531019e-01</td>\n",
       "      <td>0.010641</td>\n",
       "      <td>0.0</td>\n",
       "      <td>0.0</td>\n",
       "      <td>0.097675</td>\n",
       "    </tr>\n",
       "    <tr>\n",
       "      <th>2002-06-01</th>\n",
       "      <td>0.542940</td>\n",
       "      <td>2.998181e-01</td>\n",
       "      <td>0.006056</td>\n",
       "      <td>0.0</td>\n",
       "      <td>0.0</td>\n",
       "      <td>0.094322</td>\n",
       "    </tr>\n",
       "    <tr>\n",
       "      <th>2002-07-01</th>\n",
       "      <td>0.274644</td>\n",
       "      <td>9.374239e-03</td>\n",
       "      <td>0.000905</td>\n",
       "      <td>0.0</td>\n",
       "      <td>0.0</td>\n",
       "      <td>0.097245</td>\n",
       "    </tr>\n",
       "    <tr>\n",
       "      <th>2002-08-01</th>\n",
       "      <td>0.171213</td>\n",
       "      <td>2.701935e-01</td>\n",
       "      <td>0.005814</td>\n",
       "      <td>0.0</td>\n",
       "      <td>0.0</td>\n",
       "      <td>0.097001</td>\n",
       "    </tr>\n",
       "    <tr>\n",
       "      <th>2002-09-01</th>\n",
       "      <td>0.750331</td>\n",
       "      <td>6.695681e-01</td>\n",
       "      <td>0.013031</td>\n",
       "      <td>0.0</td>\n",
       "      <td>0.0</td>\n",
       "      <td>0.093621</td>\n",
       "    </tr>\n",
       "    <tr>\n",
       "      <th>2002-10-01</th>\n",
       "      <td>0.681123</td>\n",
       "      <td>5.912269e-01</td>\n",
       "      <td>0.010577</td>\n",
       "      <td>0.0</td>\n",
       "      <td>0.0</td>\n",
       "      <td>0.096459</td>\n",
       "    </tr>\n",
       "    <tr>\n",
       "      <th>2002-11-01</th>\n",
       "      <td>0.211732</td>\n",
       "      <td>8.622789e-02</td>\n",
       "      <td>0.001598</td>\n",
       "      <td>0.0</td>\n",
       "      <td>0.0</td>\n",
       "      <td>0.093048</td>\n",
       "    </tr>\n",
       "    <tr>\n",
       "      <th>2002-12-01</th>\n",
       "      <td>0.068000</td>\n",
       "      <td>2.193625e-01</td>\n",
       "      <td>0.004543</td>\n",
       "      <td>0.0</td>\n",
       "      <td>0.0</td>\n",
       "      <td>0.095812</td>\n",
       "    </tr>\n",
       "    <tr>\n",
       "      <th>2003-01-01</th>\n",
       "      <td>0.848203</td>\n",
       "      <td>1.668047e+00</td>\n",
       "      <td>0.030793</td>\n",
       "      <td>0.0</td>\n",
       "      <td>0.0</td>\n",
       "      <td>0.095450</td>\n",
       "    </tr>\n",
       "    <tr>\n",
       "      <th>2003-02-01</th>\n",
       "      <td>1.612997</td>\n",
       "      <td>1.820017e+00</td>\n",
       "      <td>0.033763</td>\n",
       "      <td>0.0</td>\n",
       "      <td>0.0</td>\n",
       "      <td>0.085867</td>\n",
       "    </tr>\n",
       "    <tr>\n",
       "      <th>2003-03-01</th>\n",
       "      <td>1.550733</td>\n",
       "      <td>6.221626e-01</td>\n",
       "      <td>0.011294</td>\n",
       "      <td>0.0</td>\n",
       "      <td>0.0</td>\n",
       "      <td>0.094595</td>\n",
       "    </tr>\n",
       "    <tr>\n",
       "      <th>2003-04-01</th>\n",
       "      <td>0.433112</td>\n",
       "      <td>1.751984e-01</td>\n",
       "      <td>0.003567</td>\n",
       "      <td>0.0</td>\n",
       "      <td>0.0</td>\n",
       "      <td>0.091003</td>\n",
       "    </tr>\n",
       "    <tr>\n",
       "      <th>2003-05-01</th>\n",
       "      <td>0.165981</td>\n",
       "      <td>1.036569e-03</td>\n",
       "      <td>0.001053</td>\n",
       "      <td>0.0</td>\n",
       "      <td>0.0</td>\n",
       "      <td>0.093469</td>\n",
       "    </tr>\n",
       "    <tr>\n",
       "      <th>2003-06-01</th>\n",
       "      <td>0.361455</td>\n",
       "      <td>4.956388e-01</td>\n",
       "      <td>0.009721</td>\n",
       "      <td>0.0</td>\n",
       "      <td>0.0</td>\n",
       "      <td>0.089945</td>\n",
       "    </tr>\n",
       "    <tr>\n",
       "      <th>...</th>\n",
       "      <td>...</td>\n",
       "      <td>...</td>\n",
       "      <td>...</td>\n",
       "      <td>...</td>\n",
       "      <td>...</td>\n",
       "      <td>...</td>\n",
       "    </tr>\n",
       "    <tr>\n",
       "      <th>2013-07-01</th>\n",
       "      <td>2.424471</td>\n",
       "      <td>2.507124e+00</td>\n",
       "      <td>0.094717</td>\n",
       "      <td>0.0</td>\n",
       "      <td>0.0</td>\n",
       "      <td>0.431595</td>\n",
       "    </tr>\n",
       "    <tr>\n",
       "      <th>2013-08-01</th>\n",
       "      <td>5.581822</td>\n",
       "      <td>6.253303e+00</td>\n",
       "      <td>0.228893</td>\n",
       "      <td>0.0</td>\n",
       "      <td>0.0</td>\n",
       "      <td>0.412168</td>\n",
       "    </tr>\n",
       "    <tr>\n",
       "      <th>2013-09-01</th>\n",
       "      <td>1.043962</td>\n",
       "      <td>1.229900e+00</td>\n",
       "      <td>0.044478</td>\n",
       "      <td>0.0</td>\n",
       "      <td>0.0</td>\n",
       "      <td>0.382034</td>\n",
       "    </tr>\n",
       "    <tr>\n",
       "      <th>2013-10-01</th>\n",
       "      <td>1.538927</td>\n",
       "      <td>4.617873e-01</td>\n",
       "      <td>0.017189</td>\n",
       "      <td>0.0</td>\n",
       "      <td>0.0</td>\n",
       "      <td>0.378170</td>\n",
       "    </tr>\n",
       "    <tr>\n",
       "      <th>2013-11-01</th>\n",
       "      <td>0.250082</td>\n",
       "      <td>4.083586e-03</td>\n",
       "      <td>0.000270</td>\n",
       "      <td>0.0</td>\n",
       "      <td>0.0</td>\n",
       "      <td>0.350613</td>\n",
       "    </tr>\n",
       "    <tr>\n",
       "      <th>2013-12-01</th>\n",
       "      <td>0.089775</td>\n",
       "      <td>3.273574e-08</td>\n",
       "      <td>0.000474</td>\n",
       "      <td>0.0</td>\n",
       "      <td>0.0</td>\n",
       "      <td>0.347078</td>\n",
       "    </tr>\n",
       "    <tr>\n",
       "      <th>2014-01-01</th>\n",
       "      <td>0.059838</td>\n",
       "      <td>4.619077e-05</td>\n",
       "      <td>0.000556</td>\n",
       "      <td>0.0</td>\n",
       "      <td>0.0</td>\n",
       "      <td>0.332290</td>\n",
       "    </tr>\n",
       "    <tr>\n",
       "      <th>2014-02-01</th>\n",
       "      <td>0.074813</td>\n",
       "      <td>1.651856e-03</td>\n",
       "      <td>0.000565</td>\n",
       "      <td>0.0</td>\n",
       "      <td>0.0</td>\n",
       "      <td>0.287943</td>\n",
       "    </tr>\n",
       "    <tr>\n",
       "      <th>2014-03-01</th>\n",
       "      <td>0.117556</td>\n",
       "      <td>6.833142e-02</td>\n",
       "      <td>0.002930</td>\n",
       "      <td>0.0</td>\n",
       "      <td>0.0</td>\n",
       "      <td>0.305859</td>\n",
       "    </tr>\n",
       "    <tr>\n",
       "      <th>2014-04-01</th>\n",
       "      <td>0.738963</td>\n",
       "      <td>1.196879e+00</td>\n",
       "      <td>0.037433</td>\n",
       "      <td>0.0</td>\n",
       "      <td>0.0</td>\n",
       "      <td>0.283589</td>\n",
       "    </tr>\n",
       "    <tr>\n",
       "      <th>2014-05-01</th>\n",
       "      <td>1.638109</td>\n",
       "      <td>1.349445e+00</td>\n",
       "      <td>0.041897</td>\n",
       "      <td>0.0</td>\n",
       "      <td>0.0</td>\n",
       "      <td>0.280773</td>\n",
       "    </tr>\n",
       "    <tr>\n",
       "      <th>2014-06-01</th>\n",
       "      <td>0.588692</td>\n",
       "      <td>1.795237e-01</td>\n",
       "      <td>0.006421</td>\n",
       "      <td>0.0</td>\n",
       "      <td>0.0</td>\n",
       "      <td>0.260344</td>\n",
       "    </tr>\n",
       "    <tr>\n",
       "      <th>2014-07-01</th>\n",
       "      <td>0.728148</td>\n",
       "      <td>1.738016e+00</td>\n",
       "      <td>0.052679</td>\n",
       "      <td>0.0</td>\n",
       "      <td>0.0</td>\n",
       "      <td>0.257777</td>\n",
       "    </tr>\n",
       "    <tr>\n",
       "      <th>2014-08-01</th>\n",
       "      <td>2.289923</td>\n",
       "      <td>1.265079e+00</td>\n",
       "      <td>0.036609</td>\n",
       "      <td>0.0</td>\n",
       "      <td>0.0</td>\n",
       "      <td>0.246838</td>\n",
       "    </tr>\n",
       "    <tr>\n",
       "      <th>2014-09-01</th>\n",
       "      <td>3.281307</td>\n",
       "      <td>3.524227e+00</td>\n",
       "      <td>0.101308</td>\n",
       "      <td>0.0</td>\n",
       "      <td>0.0</td>\n",
       "      <td>0.228898</td>\n",
       "    </tr>\n",
       "    <tr>\n",
       "      <th>2014-10-01</th>\n",
       "      <td>0.543876</td>\n",
       "      <td>1.846282e-03</td>\n",
       "      <td>0.000183</td>\n",
       "      <td>0.0</td>\n",
       "      <td>0.0</td>\n",
       "      <td>0.226656</td>\n",
       "    </tr>\n",
       "    <tr>\n",
       "      <th>2014-11-01</th>\n",
       "      <td>0.155327</td>\n",
       "      <td>4.816356e-02</td>\n",
       "      <td>0.001566</td>\n",
       "      <td>0.0</td>\n",
       "      <td>0.0</td>\n",
       "      <td>0.210207</td>\n",
       "    </tr>\n",
       "    <tr>\n",
       "      <th>2014-12-01</th>\n",
       "      <td>0.078886</td>\n",
       "      <td>2.127376e-05</td>\n",
       "      <td>0.000251</td>\n",
       "      <td>0.0</td>\n",
       "      <td>0.0</td>\n",
       "      <td>0.208192</td>\n",
       "    </tr>\n",
       "    <tr>\n",
       "      <th>2015-01-01</th>\n",
       "      <td>0.047882</td>\n",
       "      <td>1.364428e-02</td>\n",
       "      <td>0.001040</td>\n",
       "      <td>0.0</td>\n",
       "      <td>0.0</td>\n",
       "      <td>0.199435</td>\n",
       "    </tr>\n",
       "    <tr>\n",
       "      <th>2015-02-01</th>\n",
       "      <td>0.075240</td>\n",
       "      <td>3.488175e-03</td>\n",
       "      <td>0.000683</td>\n",
       "      <td>0.0</td>\n",
       "      <td>0.0</td>\n",
       "      <td>0.172938</td>\n",
       "    </tr>\n",
       "    <tr>\n",
       "      <th>2015-03-01</th>\n",
       "      <td>0.598769</td>\n",
       "      <td>6.416018e-01</td>\n",
       "      <td>0.016322</td>\n",
       "      <td>0.0</td>\n",
       "      <td>0.0</td>\n",
       "      <td>0.183839</td>\n",
       "    </tr>\n",
       "    <tr>\n",
       "      <th>2015-04-01</th>\n",
       "      <td>0.932610</td>\n",
       "      <td>8.578594e-01</td>\n",
       "      <td>0.021296</td>\n",
       "      <td>0.0</td>\n",
       "      <td>0.0</td>\n",
       "      <td>0.170599</td>\n",
       "    </tr>\n",
       "    <tr>\n",
       "      <th>2015-05-01</th>\n",
       "      <td>0.564929</td>\n",
       "      <td>4.839693e-01</td>\n",
       "      <td>0.012588</td>\n",
       "      <td>0.0</td>\n",
       "      <td>0.0</td>\n",
       "      <td>0.169088</td>\n",
       "    </tr>\n",
       "    <tr>\n",
       "      <th>2015-06-01</th>\n",
       "      <td>2.830180</td>\n",
       "      <td>3.416445e+00</td>\n",
       "      <td>0.081750</td>\n",
       "      <td>0.0</td>\n",
       "      <td>0.0</td>\n",
       "      <td>0.157047</td>\n",
       "    </tr>\n",
       "    <tr>\n",
       "      <th>2015-07-01</th>\n",
       "      <td>5.691305</td>\n",
       "      <td>1.417491e+01</td>\n",
       "      <td>0.327609</td>\n",
       "      <td>0.0</td>\n",
       "      <td>0.0</td>\n",
       "      <td>0.155902</td>\n",
       "    </tr>\n",
       "    <tr>\n",
       "      <th>2015-08-01</th>\n",
       "      <td>4.774660</td>\n",
       "      <td>1.672869e+00</td>\n",
       "      <td>0.038783</td>\n",
       "      <td>0.0</td>\n",
       "      <td>0.0</td>\n",
       "      <td>0.153061</td>\n",
       "    </tr>\n",
       "    <tr>\n",
       "      <th>2015-09-01</th>\n",
       "      <td>3.881045</td>\n",
       "      <td>6.360957e+00</td>\n",
       "      <td>0.150843</td>\n",
       "      <td>0.0</td>\n",
       "      <td>0.0</td>\n",
       "      <td>0.150581</td>\n",
       "    </tr>\n",
       "    <tr>\n",
       "      <th>2015-10-01</th>\n",
       "      <td>1.531942</td>\n",
       "      <td>8.269874e-03</td>\n",
       "      <td>0.000211</td>\n",
       "      <td>0.0</td>\n",
       "      <td>0.0</td>\n",
       "      <td>0.161467</td>\n",
       "    </tr>\n",
       "    <tr>\n",
       "      <th>2015-11-01</th>\n",
       "      <td>0.268769</td>\n",
       "      <td>2.027317e-05</td>\n",
       "      <td>0.000023</td>\n",
       "      <td>0.0</td>\n",
       "      <td>0.0</td>\n",
       "      <td>0.164952</td>\n",
       "    </tr>\n",
       "    <tr>\n",
       "      <th>2015-12-01</th>\n",
       "      <td>0.101005</td>\n",
       "      <td>4.931939e-06</td>\n",
       "      <td>0.000156</td>\n",
       "      <td>0.0</td>\n",
       "      <td>0.0</td>\n",
       "      <td>0.178515</td>\n",
       "    </tr>\n",
       "  </tbody>\n",
       "</table>\n",
       "<p>180 rows × 6 columns</p>\n",
       "</div>"
      ],
      "text/plain": [
       "            Evap_tavg    Rainf_tavg   Qs_tavg  Snowf_tavg  Qsm_tavg  Qsb_tavg\n",
       "time                                                                         \n",
       "2001-01-01   0.260270  1.801218e-06  0.000377         0.0       0.0  0.100995\n",
       "2001-02-01   0.128677  2.004636e-03  0.000405         0.0       0.0  0.091017\n",
       "2001-03-01   0.073630  1.040879e-02  0.000779         0.0       0.0  0.100481\n",
       "2001-04-01   0.369990  4.257706e-01  0.008504         0.0       0.0  0.096910\n",
       "2001-05-01   0.299946  2.829639e-01  0.006494         0.0       0.0  0.099773\n",
       "2001-06-01   0.761812  9.986401e-01  0.018966         0.0       0.0  0.096165\n",
       "2001-07-01   5.040593  8.459628e+00  0.158795         0.0       0.0  0.098971\n",
       "2001-08-01   3.083843  2.219217e+00  0.042320         0.0       0.0  0.098838\n",
       "2001-09-01   0.703060  7.029980e-03  0.000173         0.0       0.0  0.095584\n",
       "2001-10-01   0.328425  2.682212e-01  0.005387         0.0       0.0  0.098686\n",
       "2001-11-01   0.112179  1.466846e-07  0.000223         0.0       0.0  0.095411\n",
       "2001-12-01   0.915084  2.274004e+00  0.043380         0.0       0.0  0.098506\n",
       "2002-01-01   0.839515  1.172950e-04  0.000019         0.0       0.0  0.098397\n",
       "2002-02-01   0.404687  4.803253e-02  0.000895         0.0       0.0  0.088735\n",
       "2002-03-01   0.389545  1.780414e-01  0.003524         0.0       0.0  0.098074\n",
       "2002-04-01   0.093115  3.463412e-04  0.000779         0.0       0.0  0.094727\n",
       "2002-05-01   0.045710  4.531019e-01  0.010641         0.0       0.0  0.097675\n",
       "2002-06-01   0.542940  2.998181e-01  0.006056         0.0       0.0  0.094322\n",
       "2002-07-01   0.274644  9.374239e-03  0.000905         0.0       0.0  0.097245\n",
       "2002-08-01   0.171213  2.701935e-01  0.005814         0.0       0.0  0.097001\n",
       "2002-09-01   0.750331  6.695681e-01  0.013031         0.0       0.0  0.093621\n",
       "2002-10-01   0.681123  5.912269e-01  0.010577         0.0       0.0  0.096459\n",
       "2002-11-01   0.211732  8.622789e-02  0.001598         0.0       0.0  0.093048\n",
       "2002-12-01   0.068000  2.193625e-01  0.004543         0.0       0.0  0.095812\n",
       "2003-01-01   0.848203  1.668047e+00  0.030793         0.0       0.0  0.095450\n",
       "2003-02-01   1.612997  1.820017e+00  0.033763         0.0       0.0  0.085867\n",
       "2003-03-01   1.550733  6.221626e-01  0.011294         0.0       0.0  0.094595\n",
       "2003-04-01   0.433112  1.751984e-01  0.003567         0.0       0.0  0.091003\n",
       "2003-05-01   0.165981  1.036569e-03  0.001053         0.0       0.0  0.093469\n",
       "2003-06-01   0.361455  4.956388e-01  0.009721         0.0       0.0  0.089945\n",
       "...               ...           ...       ...         ...       ...       ...\n",
       "2013-07-01   2.424471  2.507124e+00  0.094717         0.0       0.0  0.431595\n",
       "2013-08-01   5.581822  6.253303e+00  0.228893         0.0       0.0  0.412168\n",
       "2013-09-01   1.043962  1.229900e+00  0.044478         0.0       0.0  0.382034\n",
       "2013-10-01   1.538927  4.617873e-01  0.017189         0.0       0.0  0.378170\n",
       "2013-11-01   0.250082  4.083586e-03  0.000270         0.0       0.0  0.350613\n",
       "2013-12-01   0.089775  3.273574e-08  0.000474         0.0       0.0  0.347078\n",
       "2014-01-01   0.059838  4.619077e-05  0.000556         0.0       0.0  0.332290\n",
       "2014-02-01   0.074813  1.651856e-03  0.000565         0.0       0.0  0.287943\n",
       "2014-03-01   0.117556  6.833142e-02  0.002930         0.0       0.0  0.305859\n",
       "2014-04-01   0.738963  1.196879e+00  0.037433         0.0       0.0  0.283589\n",
       "2014-05-01   1.638109  1.349445e+00  0.041897         0.0       0.0  0.280773\n",
       "2014-06-01   0.588692  1.795237e-01  0.006421         0.0       0.0  0.260344\n",
       "2014-07-01   0.728148  1.738016e+00  0.052679         0.0       0.0  0.257777\n",
       "2014-08-01   2.289923  1.265079e+00  0.036609         0.0       0.0  0.246838\n",
       "2014-09-01   3.281307  3.524227e+00  0.101308         0.0       0.0  0.228898\n",
       "2014-10-01   0.543876  1.846282e-03  0.000183         0.0       0.0  0.226656\n",
       "2014-11-01   0.155327  4.816356e-02  0.001566         0.0       0.0  0.210207\n",
       "2014-12-01   0.078886  2.127376e-05  0.000251         0.0       0.0  0.208192\n",
       "2015-01-01   0.047882  1.364428e-02  0.001040         0.0       0.0  0.199435\n",
       "2015-02-01   0.075240  3.488175e-03  0.000683         0.0       0.0  0.172938\n",
       "2015-03-01   0.598769  6.416018e-01  0.016322         0.0       0.0  0.183839\n",
       "2015-04-01   0.932610  8.578594e-01  0.021296         0.0       0.0  0.170599\n",
       "2015-05-01   0.564929  4.839693e-01  0.012588         0.0       0.0  0.169088\n",
       "2015-06-01   2.830180  3.416445e+00  0.081750         0.0       0.0  0.157047\n",
       "2015-07-01   5.691305  1.417491e+01  0.327609         0.0       0.0  0.155902\n",
       "2015-08-01   4.774660  1.672869e+00  0.038783         0.0       0.0  0.153061\n",
       "2015-09-01   3.881045  6.360957e+00  0.150843         0.0       0.0  0.150581\n",
       "2015-10-01   1.531942  8.269874e-03  0.000211         0.0       0.0  0.161467\n",
       "2015-11-01   0.268769  2.027317e-05  0.000023         0.0       0.0  0.164952\n",
       "2015-12-01   0.101005  4.931939e-06  0.000156         0.0       0.0  0.178515\n",
       "\n",
       "[180 rows x 6 columns]"
      ]
     },
     "execution_count": 31,
     "metadata": {},
     "output_type": "execute_result"
    }
   ],
   "source": [
    "test\n"
   ]
  }
 ],
 "metadata": {
  "kernelspec": {
   "display_name": "Python (himat)",
   "language": "python",
   "name": "himat"
  },
  "language_info": {
   "codemirror_mode": {
    "name": "ipython",
    "version": 3
   },
   "file_extension": ".py",
   "mimetype": "text/x-python",
   "name": "python",
   "nbconvert_exporter": "python",
   "pygments_lexer": "ipython3",
   "version": "3.6.3"
  }
 },
 "nbformat": 4,
 "nbformat_minor": 2
}
